{
 "cells": [
  {
   "cell_type": "markdown",
   "metadata": {},
   "source": [
    "### Exploratory Data Analysis \n",
    "- In Notebook We are going to analyse the jobs that we have collected in LinkedIn and see which jobs keep repeating to later be able to drop it and also observe which jobs are on demand for this season "
   ]
  },
  {
   "cell_type": "code",
   "execution_count": 33,
   "metadata": {},
   "outputs": [],
   "source": [
    "import pandas as pd\n",
    "import numpy as np\n",
    "import matplotlib.pyplot as plt\n",
    "import seaborn as sns\n",
    "from scipy import stats\n",
    "\n"
   ]
  },
  {
   "cell_type": "code",
   "execution_count": 34,
   "metadata": {},
   "outputs": [
    {
     "data": {
      "text/html": [
       "<div>\n",
       "<style scoped>\n",
       "    .dataframe tbody tr th:only-of-type {\n",
       "        vertical-align: middle;\n",
       "    }\n",
       "\n",
       "    .dataframe tbody tr th {\n",
       "        vertical-align: top;\n",
       "    }\n",
       "\n",
       "    .dataframe thead th {\n",
       "        text-align: right;\n",
       "    }\n",
       "</style>\n",
       "<table border=\"1\" class=\"dataframe\">\n",
       "  <thead>\n",
       "    <tr style=\"text-align: right;\">\n",
       "      <th></th>\n",
       "      <th>job_title</th>\n",
       "      <th>company_name</th>\n",
       "      <th>time_posted</th>\n",
       "      <th>num_applicants</th>\n",
       "      <th>employment_type</th>\n",
       "      <th>salary</th>\n",
       "    </tr>\n",
       "  </thead>\n",
       "  <tbody>\n",
       "    <tr>\n",
       "      <th>0</th>\n",
       "      <td>Data Scientist, Small Business Group</td>\n",
       "      <td>Meta</td>\n",
       "      <td>1 day ago</td>\n",
       "      <td>77 applicants</td>\n",
       "      <td>Not Applicable</td>\n",
       "      <td>Base pay range\\n\\n      $134,000.00/yr - $204,...</td>\n",
       "    </tr>\n",
       "    <tr>\n",
       "      <th>1</th>\n",
       "      <td>Junior Data Scientist</td>\n",
       "      <td>Team Remotely Inc</td>\n",
       "      <td>1 day ago</td>\n",
       "      <td>100 applicants</td>\n",
       "      <td>Entry level</td>\n",
       "      <td>NaN</td>\n",
       "    </tr>\n",
       "    <tr>\n",
       "      <th>2</th>\n",
       "      <td>ML Engineer-AI/ML</td>\n",
       "      <td>Zortech Solutions</td>\n",
       "      <td>1 day ago</td>\n",
       "      <td>49 applicants</td>\n",
       "      <td>Entry level</td>\n",
       "      <td>NaN</td>\n",
       "    </tr>\n",
       "    <tr>\n",
       "      <th>3</th>\n",
       "      <td>Data Scientist, Analytics</td>\n",
       "      <td>DoorDash</td>\n",
       "      <td>NaN</td>\n",
       "      <td>NaN</td>\n",
       "      <td>Entry level</td>\n",
       "      <td>Base pay range\\n\\n      $133,000.00/yr - $243,...</td>\n",
       "    </tr>\n",
       "    <tr>\n",
       "      <th>4</th>\n",
       "      <td>Junior Data Scientist</td>\n",
       "      <td>LTIMindtree</td>\n",
       "      <td>NaN</td>\n",
       "      <td>NaN</td>\n",
       "      <td>Entry level</td>\n",
       "      <td>NaN</td>\n",
       "    </tr>\n",
       "    <tr>\n",
       "      <th>...</th>\n",
       "      <td>...</td>\n",
       "      <td>...</td>\n",
       "      <td>...</td>\n",
       "      <td>...</td>\n",
       "      <td>...</td>\n",
       "      <td>...</td>\n",
       "    </tr>\n",
       "    <tr>\n",
       "      <th>344</th>\n",
       "      <td>Business Systems Analyst</td>\n",
       "      <td>Vernovis</td>\n",
       "      <td>NaN</td>\n",
       "      <td>78 applicants</td>\n",
       "      <td>Mid-Senior level</td>\n",
       "      <td>Base pay range\\n\\n      $110,000.00/yr - $115,...</td>\n",
       "    </tr>\n",
       "    <tr>\n",
       "      <th>345</th>\n",
       "      <td>Data and Analytics Specialist</td>\n",
       "      <td>UBS</td>\n",
       "      <td>6 days ago</td>\n",
       "      <td>NaN</td>\n",
       "      <td>Not Applicable</td>\n",
       "      <td>NaN</td>\n",
       "    </tr>\n",
       "    <tr>\n",
       "      <th>346</th>\n",
       "      <td>Are you a Document Administrator looking for c...</td>\n",
       "      <td>eStaffing Inc.</td>\n",
       "      <td>3 weeks ago</td>\n",
       "      <td>NaN</td>\n",
       "      <td>Entry level</td>\n",
       "      <td>Base pay range\\n\\n      $40.00/hr - $60.00/hr</td>\n",
       "    </tr>\n",
       "    <tr>\n",
       "      <th>347</th>\n",
       "      <td>Digital Associate</td>\n",
       "      <td>PLUS Communications</td>\n",
       "      <td>2 days ago</td>\n",
       "      <td>NaN</td>\n",
       "      <td>Associate</td>\n",
       "      <td>NaN</td>\n",
       "    </tr>\n",
       "    <tr>\n",
       "      <th>348</th>\n",
       "      <td>NaN</td>\n",
       "      <td>NaN</td>\n",
       "      <td>NaN</td>\n",
       "      <td>NaN</td>\n",
       "      <td>NaN</td>\n",
       "      <td>NaN</td>\n",
       "    </tr>\n",
       "  </tbody>\n",
       "</table>\n",
       "<p>349 rows × 6 columns</p>\n",
       "</div>"
      ],
      "text/plain": [
       "                                             job_title         company_name  \\\n",
       "0                 Data Scientist, Small Business Group                 Meta   \n",
       "1                                Junior Data Scientist    Team Remotely Inc   \n",
       "2                                    ML Engineer-AI/ML    Zortech Solutions   \n",
       "3                            Data Scientist, Analytics             DoorDash   \n",
       "4                                Junior Data Scientist          LTIMindtree   \n",
       "..                                                 ...                  ...   \n",
       "344                           Business Systems Analyst             Vernovis   \n",
       "345                      Data and Analytics Specialist                  UBS   \n",
       "346  Are you a Document Administrator looking for c...       eStaffing Inc.   \n",
       "347                                  Digital Associate  PLUS Communications   \n",
       "348                                                NaN                  NaN   \n",
       "\n",
       "     time_posted  num_applicants   employment_type  \\\n",
       "0      1 day ago   77 applicants    Not Applicable   \n",
       "1      1 day ago  100 applicants       Entry level   \n",
       "2      1 day ago   49 applicants       Entry level   \n",
       "3            NaN             NaN       Entry level   \n",
       "4            NaN             NaN       Entry level   \n",
       "..           ...             ...               ...   \n",
       "344          NaN   78 applicants  Mid-Senior level   \n",
       "345   6 days ago             NaN    Not Applicable   \n",
       "346  3 weeks ago             NaN       Entry level   \n",
       "347   2 days ago             NaN         Associate   \n",
       "348          NaN             NaN               NaN   \n",
       "\n",
       "                                                salary  \n",
       "0    Base pay range\\n\\n      $134,000.00/yr - $204,...  \n",
       "1                                                  NaN  \n",
       "2                                                  NaN  \n",
       "3    Base pay range\\n\\n      $133,000.00/yr - $243,...  \n",
       "4                                                  NaN  \n",
       "..                                                 ...  \n",
       "344  Base pay range\\n\\n      $110,000.00/yr - $115,...  \n",
       "345                                                NaN  \n",
       "346      Base pay range\\n\\n      $40.00/hr - $60.00/hr  \n",
       "347                                                NaN  \n",
       "348                                                NaN  \n",
       "\n",
       "[349 rows x 6 columns]"
      ]
     },
     "execution_count": 34,
     "metadata": {},
     "output_type": "execute_result"
    }
   ],
   "source": [
    "df = pd.read_csv(r\"/Users/alex/Desktop/The Knowledge House/Capstone_Project/Code/job_list.csv\")\n",
    "df"
   ]
  },
  {
   "cell_type": "code",
   "execution_count": 35,
   "metadata": {},
   "outputs": [
    {
     "name": "stdout",
     "output_type": "stream",
     "text": [
      "<class 'pandas.core.frame.DataFrame'>\n",
      "RangeIndex: 349 entries, 0 to 348\n",
      "Data columns (total 6 columns):\n",
      " #   Column           Non-Null Count  Dtype \n",
      "---  ------           --------------  ----- \n",
      " 0   job_title        317 non-null    object\n",
      " 1   company_name     317 non-null    object\n",
      " 2   time_posted      197 non-null    object\n",
      " 3   num_applicants   173 non-null    object\n",
      " 4   employment_type  317 non-null    object\n",
      " 5   salary           109 non-null    object\n",
      "dtypes: object(6)\n",
      "memory usage: 16.5+ KB\n"
     ]
    }
   ],
   "source": [
    "df.info()"
   ]
  },
  {
   "cell_type": "code",
   "execution_count": 37,
   "metadata": {},
   "outputs": [
    {
     "data": {
      "text/plain": [
       "job_title           32\n",
       "company_name        32\n",
       "time_posted        152\n",
       "num_applicants     176\n",
       "employment_type     32\n",
       "salary             240\n",
       "dtype: int64"
      ]
     },
     "execution_count": 37,
     "metadata": {},
     "output_type": "execute_result"
    }
   ],
   "source": [
    "df.isnull().sum()"
   ]
  },
  {
   "cell_type": "code",
   "execution_count": 74,
   "metadata": {},
   "outputs": [
    {
     "data": {
      "text/plain": [
       "salary\n",
       "Base pay range\\n\\n      $94,300.00/yr - $198,600.00/yr     6\n",
       "Base pay range\\n\\n      $120,000.00/yr - $150,000.00/yr    4\n",
       "Base pay range\\n\\n      $110,000.00/yr - $130,000.00/yr    3\n",
       "Base pay range\\n\\n      $28.00/hr - $30.00/hr              3\n",
       "Base pay range\\n\\n      $40.00/hr - $60.00/hr              3\n",
       "                                                          ..\n",
       "Base pay range\\n\\n      $62,525.00/yr - $93,766.00/yr      1\n",
       "Base pay range\\n\\n      $58,000.00/yr - $70,000.00/yr      1\n",
       "Base pay range\\n\\n      $90,000.00/yr - $134,000.00/yr     1\n",
       "Base pay range\\n\\n      $50.00/hr - $55.00/hr              1\n",
       "Base pay range\\n\\n      $110,000.00/yr - $115,000.00/yr    1\n",
       "Name: count, Length: 83, dtype: int64"
      ]
     },
     "execution_count": 74,
     "metadata": {},
     "output_type": "execute_result"
    }
   ],
   "source": [
    "df['salary'].value_counts()"
   ]
  },
  {
   "cell_type": "code",
   "execution_count": 63,
   "metadata": {},
   "outputs": [
    {
     "data": {
      "text/plain": [
       "job_title\n",
       "Data Scientist                                                                33\n",
       "Data Analyst                                                                  17\n",
       "Data Engineer                                                                  7\n",
       "Business Analyst                                                               7\n",
       "Senior Data Scientist                                                          7\n",
       "                                                                              ..\n",
       "Machine Learning Engineer/SRE-100% Remote                                      1\n",
       "AI Systems Engineer                                                            1\n",
       "Analytics Manager #PP                                                          1\n",
       "Entry Level Business/Data Analyst                                              1\n",
       "Are you a Document Administrator looking for career change to Data Science     1\n",
       "Name: count, Length: 198, dtype: int64"
      ]
     },
     "execution_count": 63,
     "metadata": {},
     "output_type": "execute_result"
    }
   ],
   "source": [
    "df['job_title'].value_counts()"
   ]
  },
  {
   "cell_type": "code",
   "execution_count": 69,
   "metadata": {},
   "outputs": [
    {
     "data": {
      "text/plain": [
       "company_name\n",
       "Microsoft                15\n",
       "SynergisticIT             7\n",
       "Unreal Staffing, Inc      6\n",
       "Jobot                     5\n",
       "Steneral Consulting       5\n",
       "                         ..\n",
       "Avispa                    1\n",
       "Asta Crs Inc              1\n",
       "Vanilla                   1\n",
       "Tranzeal Incorporated     1\n",
       "UBS                       1\n",
       "Name: count, Length: 226, dtype: int64"
      ]
     },
     "execution_count": 69,
     "metadata": {},
     "output_type": "execute_result"
    }
   ],
   "source": [
    "df['company_name'].value_counts()\n"
   ]
  },
  {
   "cell_type": "code",
   "execution_count": 41,
   "metadata": {},
   "outputs": [
    {
     "data": {
      "text/plain": [
       "employment_type\n",
       "Mid-Senior level    111\n",
       "Entry level          99\n",
       "Not Applicable       49\n",
       "Associate            34\n",
       "Director             14\n",
       "Internship           10\n",
       "Name: count, dtype: int64"
      ]
     },
     "execution_count": 41,
     "metadata": {},
     "output_type": "execute_result"
    }
   ],
   "source": [
    "df['employment_type'].value_counts()"
   ]
  },
  {
   "cell_type": "code",
   "execution_count": 49,
   "metadata": {},
   "outputs": [
    {
     "name": "stderr",
     "output_type": "stream",
     "text": [
      "/Users/alex/anaconda3/envs/phase1/lib/python3.9/site-packages/seaborn/_oldcore.py:1498: FutureWarning: is_categorical_dtype is deprecated and will be removed in a future version. Use isinstance(dtype, CategoricalDtype) instead\n",
      "  if pd.api.types.is_categorical_dtype(vector):\n",
      "/Users/alex/anaconda3/envs/phase1/lib/python3.9/site-packages/seaborn/_oldcore.py:1498: FutureWarning: is_categorical_dtype is deprecated and will be removed in a future version. Use isinstance(dtype, CategoricalDtype) instead\n",
      "  if pd.api.types.is_categorical_dtype(vector):\n"
     ]
    },
    {
     "data": {
      "image/png": "[encoded data removed]",
      "text/plain": [
       "<Figure size 1000x500 with 1 Axes>"
      ]
     },
     "metadata": {},
     "output_type": "display_data"
    }
   ],
   "source": [
    "plt.figure(figsize=(10, 5))\n",
    "sns.countplot(x='employment_type', data=df, order = df['employment_type'].value_counts().index)\n",
    "plt.title('Employment Type')\n",
    "plt.xlabel('Employment Type')\n",
    "plt.ylabel('Count')\n",
    "plt.show()"
   ]
  },
  {
   "cell_type": "code",
   "execution_count": 61,
   "metadata": {},
   "outputs": [
    {
     "name": "stderr",
     "output_type": "stream",
     "text": [
      "/Users/alex/anaconda3/envs/phase1/lib/python3.9/site-packages/seaborn/_oldcore.py:1498: FutureWarning: is_categorical_dtype is deprecated and will be removed in a future version. Use isinstance(dtype, CategoricalDtype) instead\n",
      "  if pd.api.types.is_categorical_dtype(vector):\n",
      "/Users/alex/anaconda3/envs/phase1/lib/python3.9/site-packages/seaborn/_oldcore.py:1498: FutureWarning: is_categorical_dtype is deprecated and will be removed in a future version. Use isinstance(dtype, CategoricalDtype) instead\n",
      "  if pd.api.types.is_categorical_dtype(vector):\n"
     ]
    },
    {
     "data": {
      "text/plain": [
       "<Axes: xlabel='salary', ylabel='count'>"
      ]
     },
     "execution_count": 61,
     "metadata": {},
     "output_type": "execute_result"
    },
    {
     "data": {
      "image/png": "[encoded data removed]",
      "text/plain": [
       "<Figure size 1000x500 with 1 Axes>"
      ]
     },
     "metadata": {},
     "output_type": "display_data"
    }
   ],
   "source": []
  },
  {
   "cell_type": "code",
   "execution_count": null,
   "metadata": {},
   "outputs": [],
   "source": []
  }
 ],
 "metadata": {
  "kernelspec": {
   "display_name": "phase1",
   "language": "python",
   "name": "python3"
  },
  "language_info": {
   "codemirror_mode": {
    "name": "ipython",
    "version": 3
   },
   "file_extension": ".py",
   "mimetype": "text/x-python",
   "name": "python",
   "nbconvert_exporter": "python",
   "pygments_lexer": "ipython3",
   "version": "3.11.5"
  }
 },
 "nbformat": 4,
 "nbformat_minor": 2
}
