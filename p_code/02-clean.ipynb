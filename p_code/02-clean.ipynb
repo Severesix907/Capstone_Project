{
 "cells": [
  {
   "cell_type": "code",
   "execution_count": null,
   "metadata": {},
   "outputs": [],
   "source": []
  },
  {
   "cell_type": "code",
   "execution_count": null,
   "metadata": {},
   "outputs": [],
   "source": [
    "# Rename all columns\n",
    "# df = updated_df.rename(columns={'title':'Title',\n",
    "#                 'location':'Location', \n",
    "#                 'via':'Via',\n",
    "#                 'description':'Description',\n",
    "#                 'extensions':'Extensions',\n",
    "#                 'date_time':'Date_Time',\n",
    "#                 'commute_time':'Commute_Time',\n",
    "#                 'salary_pay':'Salary_Pay',\n",
    "#                 'salary_avg':'Salary_Average',\n",
    "#                 'salary_min':'Salary_Min',\n",
    "#                 'salary_max':'Salary_Max',\n",
    "#                 'salary_hourly':'Salary_Hourly',\n",
    "#                 'salary_yearly':'Salary_Yearly',\n",
    "#                 'salary_standardized':'Salary_Standardized'})\n",
    "\n"
   ]
  },
  {
   "cell_type": "code",
   "execution_count": null,
   "metadata": {},
   "outputs": [],
   "source": [
    "#drop the staffing agencies under the 'company_name' column"
   ]
  },
  {
   "cell_type": "code",
   "execution_count": null,
   "metadata": {},
   "outputs": [],
   "source": [
    "write this newly transformed dataset to the `data/processed` folder"
   ]
  }
 ],
 "metadata": {
  "language_info": {
   "name": "python"
  }
 },
 "nbformat": 4,
 "nbformat_minor": 2
}
